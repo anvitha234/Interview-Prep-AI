{
  "nbformat": 4,
  "nbformat_minor": 0,
  "metadata": {
    "colab": {
      "provenance": [],
      "authorship_tag": "ABX9TyNs2CCoO03Ux+98fOUdMfOz",
      "include_colab_link": true
    },
    "kernelspec": {
      "name": "python3",
      "display_name": "Python 3"
    },
    "language_info": {
      "name": "python"
    }
  },
  "cells": [
    {
      "cell_type": "markdown",
      "metadata": {
        "id": "view-in-github",
        "colab_type": "text"
      },
      "source": [
        "<a href=\"https://colab.research.google.com/github/Sid-istic/AI-Interview-Bot/blob/main/Models/Job_role_prediction.ipynb\" target=\"_parent\"><img src=\"https://colab.research.google.com/assets/colab-badge.svg\" alt=\"Open In Colab\"/></a>"
      ]
    },
    {
      "cell_type": "code",
      "execution_count": null,
      "metadata": {
        "colab": {
          "base_uri": "https://localhost:8080/",
          "height": 206
        },
        "id": "gwpKoMeDWPxK",
        "outputId": "a5d00c16-04b3-4cd3-d9bf-c41e10c8fd53"
      },
      "outputs": [
        {
          "output_type": "execute_result",
          "data": {
            "text/plain": [
              "     Category                                               Text\n",
              "0  Accountant  education omba executive leadership university...\n",
              "1  Accountant  howard gerrard accountant deyjobcom birmingham...\n",
              "2  Accountant  kevin frank senior accountant inforesumekraftc...\n",
              "3  Accountant  place birth nationality olivia ogilvy accounta...\n",
              "4  Accountant  stephen greet cpa senior accountant 9 year exp..."
            ],
            "text/html": [
              "\n",
              "  <div id=\"df-abe12e86-0313-441b-afce-2f50179f3d26\" class=\"colab-df-container\">\n",
              "    <div>\n",
              "<style scoped>\n",
              "    .dataframe tbody tr th:only-of-type {\n",
              "        vertical-align: middle;\n",
              "    }\n",
              "\n",
              "    .dataframe tbody tr th {\n",
              "        vertical-align: top;\n",
              "    }\n",
              "\n",
              "    .dataframe thead th {\n",
              "        text-align: right;\n",
              "    }\n",
              "</style>\n",
              "<table border=\"1\" class=\"dataframe\">\n",
              "  <thead>\n",
              "    <tr style=\"text-align: right;\">\n",
              "      <th></th>\n",
              "      <th>Category</th>\n",
              "      <th>Text</th>\n",
              "    </tr>\n",
              "  </thead>\n",
              "  <tbody>\n",
              "    <tr>\n",
              "      <th>0</th>\n",
              "      <td>Accountant</td>\n",
              "      <td>education omba executive leadership university...</td>\n",
              "    </tr>\n",
              "    <tr>\n",
              "      <th>1</th>\n",
              "      <td>Accountant</td>\n",
              "      <td>howard gerrard accountant deyjobcom birmingham...</td>\n",
              "    </tr>\n",
              "    <tr>\n",
              "      <th>2</th>\n",
              "      <td>Accountant</td>\n",
              "      <td>kevin frank senior accountant inforesumekraftc...</td>\n",
              "    </tr>\n",
              "    <tr>\n",
              "      <th>3</th>\n",
              "      <td>Accountant</td>\n",
              "      <td>place birth nationality olivia ogilvy accounta...</td>\n",
              "    </tr>\n",
              "    <tr>\n",
              "      <th>4</th>\n",
              "      <td>Accountant</td>\n",
              "      <td>stephen greet cpa senior accountant 9 year exp...</td>\n",
              "    </tr>\n",
              "  </tbody>\n",
              "</table>\n",
              "</div>\n",
              "    <div class=\"colab-df-buttons\">\n",
              "\n",
              "  <div class=\"colab-df-container\">\n",
              "    <button class=\"colab-df-convert\" onclick=\"convertToInteractive('df-abe12e86-0313-441b-afce-2f50179f3d26')\"\n",
              "            title=\"Convert this dataframe to an interactive table.\"\n",
              "            style=\"display:none;\">\n",
              "\n",
              "  <svg xmlns=\"http://www.w3.org/2000/svg\" height=\"24px\" viewBox=\"0 -960 960 960\">\n",
              "    <path d=\"M120-120v-720h720v720H120Zm60-500h600v-160H180v160Zm220 220h160v-160H400v160Zm0 220h160v-160H400v160ZM180-400h160v-160H180v160Zm440 0h160v-160H620v160ZM180-180h160v-160H180v160Zm440 0h160v-160H620v160Z\"/>\n",
              "  </svg>\n",
              "    </button>\n",
              "\n",
              "  <style>\n",
              "    .colab-df-container {\n",
              "      display:flex;\n",
              "      gap: 12px;\n",
              "    }\n",
              "\n",
              "    .colab-df-convert {\n",
              "      background-color: #E8F0FE;\n",
              "      border: none;\n",
              "      border-radius: 50%;\n",
              "      cursor: pointer;\n",
              "      display: none;\n",
              "      fill: #1967D2;\n",
              "      height: 32px;\n",
              "      padding: 0 0 0 0;\n",
              "      width: 32px;\n",
              "    }\n",
              "\n",
              "    .colab-df-convert:hover {\n",
              "      background-color: #E2EBFA;\n",
              "      box-shadow: 0px 1px 2px rgba(60, 64, 67, 0.3), 0px 1px 3px 1px rgba(60, 64, 67, 0.15);\n",
              "      fill: #174EA6;\n",
              "    }\n",
              "\n",
              "    .colab-df-buttons div {\n",
              "      margin-bottom: 4px;\n",
              "    }\n",
              "\n",
              "    [theme=dark] .colab-df-convert {\n",
              "      background-color: #3B4455;\n",
              "      fill: #D2E3FC;\n",
              "    }\n",
              "\n",
              "    [theme=dark] .colab-df-convert:hover {\n",
              "      background-color: #434B5C;\n",
              "      box-shadow: 0px 1px 3px 1px rgba(0, 0, 0, 0.15);\n",
              "      filter: drop-shadow(0px 1px 2px rgba(0, 0, 0, 0.3));\n",
              "      fill: #FFFFFF;\n",
              "    }\n",
              "  </style>\n",
              "\n",
              "    <script>\n",
              "      const buttonEl =\n",
              "        document.querySelector('#df-abe12e86-0313-441b-afce-2f50179f3d26 button.colab-df-convert');\n",
              "      buttonEl.style.display =\n",
              "        google.colab.kernel.accessAllowed ? 'block' : 'none';\n",
              "\n",
              "      async function convertToInteractive(key) {\n",
              "        const element = document.querySelector('#df-abe12e86-0313-441b-afce-2f50179f3d26');\n",
              "        const dataTable =\n",
              "          await google.colab.kernel.invokeFunction('convertToInteractive',\n",
              "                                                    [key], {});\n",
              "        if (!dataTable) return;\n",
              "\n",
              "        const docLinkHtml = 'Like what you see? Visit the ' +\n",
              "          '<a target=\"_blank\" href=https://colab.research.google.com/notebooks/data_table.ipynb>data table notebook</a>'\n",
              "          + ' to learn more about interactive tables.';\n",
              "        element.innerHTML = '';\n",
              "        dataTable['output_type'] = 'display_data';\n",
              "        await google.colab.output.renderOutput(dataTable, element);\n",
              "        const docLink = document.createElement('div');\n",
              "        docLink.innerHTML = docLinkHtml;\n",
              "        element.appendChild(docLink);\n",
              "      }\n",
              "    </script>\n",
              "  </div>\n",
              "\n",
              "\n",
              "    <div id=\"df-b1568d55-1602-440e-b7de-04080b963f6f\">\n",
              "      <button class=\"colab-df-quickchart\" onclick=\"quickchart('df-b1568d55-1602-440e-b7de-04080b963f6f')\"\n",
              "                title=\"Suggest charts\"\n",
              "                style=\"display:none;\">\n",
              "\n",
              "<svg xmlns=\"http://www.w3.org/2000/svg\" height=\"24px\"viewBox=\"0 0 24 24\"\n",
              "     width=\"24px\">\n",
              "    <g>\n",
              "        <path d=\"M19 3H5c-1.1 0-2 .9-2 2v14c0 1.1.9 2 2 2h14c1.1 0 2-.9 2-2V5c0-1.1-.9-2-2-2zM9 17H7v-7h2v7zm4 0h-2V7h2v10zm4 0h-2v-4h2v4z\"/>\n",
              "    </g>\n",
              "</svg>\n",
              "      </button>\n",
              "\n",
              "<style>\n",
              "  .colab-df-quickchart {\n",
              "      --bg-color: #E8F0FE;\n",
              "      --fill-color: #1967D2;\n",
              "      --hover-bg-color: #E2EBFA;\n",
              "      --hover-fill-color: #174EA6;\n",
              "      --disabled-fill-color: #AAA;\n",
              "      --disabled-bg-color: #DDD;\n",
              "  }\n",
              "\n",
              "  [theme=dark] .colab-df-quickchart {\n",
              "      --bg-color: #3B4455;\n",
              "      --fill-color: #D2E3FC;\n",
              "      --hover-bg-color: #434B5C;\n",
              "      --hover-fill-color: #FFFFFF;\n",
              "      --disabled-bg-color: #3B4455;\n",
              "      --disabled-fill-color: #666;\n",
              "  }\n",
              "\n",
              "  .colab-df-quickchart {\n",
              "    background-color: var(--bg-color);\n",
              "    border: none;\n",
              "    border-radius: 50%;\n",
              "    cursor: pointer;\n",
              "    display: none;\n",
              "    fill: var(--fill-color);\n",
              "    height: 32px;\n",
              "    padding: 0;\n",
              "    width: 32px;\n",
              "  }\n",
              "\n",
              "  .colab-df-quickchart:hover {\n",
              "    background-color: var(--hover-bg-color);\n",
              "    box-shadow: 0 1px 2px rgba(60, 64, 67, 0.3), 0 1px 3px 1px rgba(60, 64, 67, 0.15);\n",
              "    fill: var(--button-hover-fill-color);\n",
              "  }\n",
              "\n",
              "  .colab-df-quickchart-complete:disabled,\n",
              "  .colab-df-quickchart-complete:disabled:hover {\n",
              "    background-color: var(--disabled-bg-color);\n",
              "    fill: var(--disabled-fill-color);\n",
              "    box-shadow: none;\n",
              "  }\n",
              "\n",
              "  .colab-df-spinner {\n",
              "    border: 2px solid var(--fill-color);\n",
              "    border-color: transparent;\n",
              "    border-bottom-color: var(--fill-color);\n",
              "    animation:\n",
              "      spin 1s steps(1) infinite;\n",
              "  }\n",
              "\n",
              "  @keyframes spin {\n",
              "    0% {\n",
              "      border-color: transparent;\n",
              "      border-bottom-color: var(--fill-color);\n",
              "      border-left-color: var(--fill-color);\n",
              "    }\n",
              "    20% {\n",
              "      border-color: transparent;\n",
              "      border-left-color: var(--fill-color);\n",
              "      border-top-color: var(--fill-color);\n",
              "    }\n",
              "    30% {\n",
              "      border-color: transparent;\n",
              "      border-left-color: var(--fill-color);\n",
              "      border-top-color: var(--fill-color);\n",
              "      border-right-color: var(--fill-color);\n",
              "    }\n",
              "    40% {\n",
              "      border-color: transparent;\n",
              "      border-right-color: var(--fill-color);\n",
              "      border-top-color: var(--fill-color);\n",
              "    }\n",
              "    60% {\n",
              "      border-color: transparent;\n",
              "      border-right-color: var(--fill-color);\n",
              "    }\n",
              "    80% {\n",
              "      border-color: transparent;\n",
              "      border-right-color: var(--fill-color);\n",
              "      border-bottom-color: var(--fill-color);\n",
              "    }\n",
              "    90% {\n",
              "      border-color: transparent;\n",
              "      border-bottom-color: var(--fill-color);\n",
              "    }\n",
              "  }\n",
              "</style>\n",
              "\n",
              "      <script>\n",
              "        async function quickchart(key) {\n",
              "          const quickchartButtonEl =\n",
              "            document.querySelector('#' + key + ' button');\n",
              "          quickchartButtonEl.disabled = true;  // To prevent multiple clicks.\n",
              "          quickchartButtonEl.classList.add('colab-df-spinner');\n",
              "          try {\n",
              "            const charts = await google.colab.kernel.invokeFunction(\n",
              "                'suggestCharts', [key], {});\n",
              "          } catch (error) {\n",
              "            console.error('Error during call to suggestCharts:', error);\n",
              "          }\n",
              "          quickchartButtonEl.classList.remove('colab-df-spinner');\n",
              "          quickchartButtonEl.classList.add('colab-df-quickchart-complete');\n",
              "        }\n",
              "        (() => {\n",
              "          let quickchartButtonEl =\n",
              "            document.querySelector('#df-b1568d55-1602-440e-b7de-04080b963f6f button');\n",
              "          quickchartButtonEl.style.display =\n",
              "            google.colab.kernel.accessAllowed ? 'block' : 'none';\n",
              "        })();\n",
              "      </script>\n",
              "    </div>\n",
              "\n",
              "    </div>\n",
              "  </div>\n"
            ],
            "application/vnd.google.colaboratory.intrinsic+json": {
              "type": "dataframe",
              "variable_name": "df",
              "summary": "{\n  \"name\": \"df\",\n  \"rows\": 13389,\n  \"fields\": [\n    {\n      \"column\": \"Category\",\n      \"properties\": {\n        \"dtype\": \"category\",\n        \"num_unique_values\": 43,\n        \"samples\": [\n          \"React Developer\",\n          \"Finance\",\n          \"Food and Beverages\"\n        ],\n        \"semantic_type\": \"\",\n        \"description\": \"\"\n      }\n    },\n    {\n      \"column\": \"Text\",\n      \"properties\": {\n        \"dtype\": \"string\",\n        \"num_unique_values\": 12085,\n        \"samples\": [\n          \"jessica claire montgomery street san francisco ca 94105 555 4321000 resumesampleexamplecom professional summary highly motivated determined individual seeking fulltime position previous financial purchasing construction project controlling experiences drive corporations goals toward success core qualifications proficient following software business applications sap pdm autocad dwg trueview hyperion financial manager sage timberline quickbooks word excel including vlookup pivot tables macros access powerpoint project outlook visio concerto illustration imaging page layout applications illustrator photoshop imageready adobe reader adobe acrobat kpt vector tools experience construction project manager 042015 present heartland dental okeechobee fl created analyzed implemented project definitions schedules budgets scopes work objectives multiple programs new construction projects developed project timelines execution strategies effectively match client expectations deadlines still maintaining profitable gross margin 30 actual cost final invoicing simultaneously managed multiple construction projects service events tours involving launch new programs construction projects refurbishment existing inventory integration new graphics components configurations presaleproposal execution completion onsite duties included site staffing oversight install dismantle well ensuring compliance tradeshow regulations issued work orders shop production consistent signed quote budgetary guidelines effectively converting selling language quotework tasks production language garnered extensive knowledge areas general construction metal fabrications electrical knowledge theatrical commercial lighting paint systems special finishes digital photographic processes graphic production draw perspectives union jurisdictions estimating techniques pricing costing principles purchasing processes financial reporting project controlleraccountant intern 112014 032015 ledcor minneapolis mn managed project controller duties including developing project budgets analyzing project costtorevenue records presenting weeklymonthly project review reports upper management maintained corporate general ledger account reconciliations journal entries project reclassifications daily banking inquiries assisted cfocontroller maintaining kpi files well developing new department metrics coordinated multiple responsibilities accounts receivable including updating creating sales orders invoicing commissions posting cash receipts conducted accounts payable duties payment runs processing invoices auditing expense reports assisted payroll tracking labor hours 325 employees purchasing analyst intern 062014 112014 thyssenkrupp system engineering city state implemented strategies eliminating internal external ncmrs resulting savings 6 million annually sourced products raw materials higher quality lower cost structures consistent business objectives ensured efficient product flow partnering suppliers distribution centers shipment tracking maintain plant operations accommodating time sensitive needs customers conducted internal external plant surveys analyze production flow profitability levels recommending systems reduce overhead streamline designed supplier bidding website joint effort purchasing managers completed website minimal cost developed procedures controls united purchasing thus eliminating excessive expenditure project controller 062012 062014 rock building co inc city state developed cost estimates evaluating construction quotes material estimates applying historical costs current costs updating pricing schedules controlled project expenses classifying evaluating project expenditures comparing expenditures project budgets analyzing purchases assessing cost trends selected subcontractors evaluating bids locating qualifying subcontractors attaining maintaining subcontractor documentation inspecting adherence drawings specifications schedules guided project operations developing writing updating policies procedures guidelines maintained efficient production flow developing monitoring inventory systems education bachelor science finance december 2016 oakland university rochester mi finance professional affiliations skills account reconciliations accounts payable accounts receivable adobe acrobat adobe photoshop streamline auditing autocad banking budgets cash receipts controller draw costing client documentation estimating expense reports financial financial reporting general ledger graphics graphic hyperion illustration illustrator imageready imaging inspecting inventory invoicing lighting macros materials access excel outlook powerpoint word new construction page layout paint payroll pdm pivot tables policies presenting pricing processes proposal purchasing quality quickbooks sage selling sales sap staffing surveys timberline visio website\",\n          \"jessica claire 100 montgomery st 10th floor 555 4321000 resumesampleexamplecom website portfolio profiles wwwjessicaeclairecom professional summary performancedriven creative multimedia designer extensive experience designing logos banners web design management producing multimedia animations editing videos developing digital elements videos performancedriven web developer intern motivated meet webbased needs assisted development testing mobile web based applications consistently recognized dependability multitasking skills proficient software goaloriented web developer brings strong commitment collaboration solutionsoriented problemsolving use various web design packages develop customcrafted customerfocused websites designs committed high standards user experience usability speed number years multiple users lends detailed knowledge seo increase visibility bringing number years experience leading website design projects including gathering user requirements producing code creating mockups enhancing designs focused creating clean robust code exceptional security achieves compatibility targets meeting exceeding customer demands logical resultsdriven web developer dedicated building optimizing userfocused websites customers various business objectives judicious creative crafting effective websites apps platforms propel competitive advantage revenue growth technically proficient analytical problem solver calm focused demeanor adobe creative cloud suite microsoft office google suite logo creation production postproduction work knowledge filming operating video camera equipment html css typography design principles skills strong multitasking time management skills motion graphics video editing experience pc mac operating systems web site design commitment high standards excellence illustration design web graphic design specialist 062017 current pnc financial services group inc camp hill pa work history completed full redesigns organizations two websites improve navigation enhance visuals strengthen search engine rankings collect define translate user requirements project designs implementation plans conceive build optimized landing pages html css integration crossbrowser compatibility deliver user support clients train educate answer questions team leader make sure deadlines met communicate committee members liaisons built user interface data visualizations designed overall user experience resulting number increase engagement designed website layouts templates unique branded looks created designs collaborated technical team complete projects employed design fundamentals selecting typography composition layout color design work developed creative solutions drove engagement published content aligned designs brand image meeting usability website standards took multitude roles including graphic design video editing web development mobile app creation provide range across projects edited transitions graphics voiceovers music corrected lighting coloring sound enhance footage create highquality videos filmed edited large conventions hundreds people utilized google analytics monitor websites digital content recommended strategies updated channels improve performance presented ux designs solutions senior staff evangelizing usercentric design decisions developed storyboards outlining animation plans production assistant 062016 032017 tastemade chicago il managed projects acquirement commission developed managed marketing content blogs promotional graphics videos social media facilitated communication departments achieve client objectives goals improved page content keyword relevancy branding achieve search engine optimization goals completed keyword research target clients based keyword targeting oversaw social media presence aligned posts include branding trending ideas production intern 032016 062016 little fishes swim school south barrington il completed keyword research target clients based keyword targeting developed network relationships increased awareness industry professionals promote services organized work meet demanding production goals coordinating documentation filings collaborated multifunctional roles communicate align development efforts quickly learned new skills applied daily tasks improving efficiency productivity cast member 082015 012016 walt disney world company city state ensured guest satisfaction promptly greeting attending seating guests resolved guest issues identifying source complaint formulating corrective action supervisor disney class human resource management cast engagement grade disney university education bachelor science digital media animation business 052015 alfred state suny college technology alfred ny deans list spring 2015 essentials imis rise web design certifications\",\n          \"jessica claire montgomery street san francisco ca 94105 555 4321000 resumesampleexamplecom summary proactive project manager experienced managing variety construction teams projects successful creating effective communication personnel general contractors management team baseline schedules creation building codes regulations blueprint fluency organized detailoriented relationship building microsoft office suite expert detailoriented held 100 success rate assigned projects highlights superb management skills budgeting forecasting process improvement organized resultsoriented cost control security systems knowledge troubleshooting accomplishments experience sr project manager 2010 current cmc icos biologics inc boulder co advise real estate team potential locations provide support design team rollouts identify constructability issues posed new design provide field support throughout project including regular site visits ensure compliance applicable codes laws rules regulations standards policies procedures including established safety procedures work brand partners ensure vendors contractors performing schedule quality monitor evaluate quality timeliness project take corrective action needed overall responsible brand budget quality defined project deliverables monitored status tasks delivered status reports stakeholders budgeting planning purposes collaborated crossfunctional teams draft project schedules plans qualified competitive subcontractor bids prior execution contracts facilitated processing rfis submittals samples among general contractor owner owners consultants educated general contractor personnel quality standards throughout construction process obtained notices completion compliance certifications construction administration consultants reviewed investigated proposed change order requests pcor performed construction site preinspections coordinated postconstruction audits led managed resolution issues project construction commissioning phases project managerconsultant 012010 fedex cross border olive branch ms monitor evaluate quality timeliness project take corrective action needed ensure compliance applicable codes laws rules regulations standards policies procedures including established safety procedures responsible site visits throughout project provide owner representation client establish manage maintain approved budget senior project manager 012009 012010 fedex cross border bethlehem pa responsible construction management new relocation remodeled stores responsible maintaining client relations exceeding expectations responsible estimating writing purchase orders change orders managing costs project solicit analyze bids construction companies subcontractors suppliers provide direction guidance technical assistance field team responsible team project managers project administrators monitor evaluate quality timeliness project take corrective action needed ensure compliance applicable codes laws rules regulations standards policies procedures including established safety procedures work new existing clients improve relations senior project manager 012005 012009 pearson north charleston sc provide owner representation luxottica retail lenscraftersunglass hut responsible construction management new relocation remodeled stores specialized open remodel tenant improvements solicit analyze bids construction companies subcontractors suppliers provide direction guidance technical assistance store general managers responsible site visits throughout project ensure compliance applicable codes laws rules regulations standards policies procedures including established safety procedures project manager 012000 012004 cvs health san antonio tx manage complete process sale close responsible subcontractors including hiring termination training develop weekly production schedule community maintain less 1 variance budget responsible daily inspections work responsible municipality government inspections regional facility manager 011997 012000 rock islandmilan school district 41 rock island il maintain three facilities 400000 square feet including finishing construction punch manage maintenance housekeeping locker room staff manage outside vendors contactors develop improvement project specifications bid packages reduced staff turnover building supervisor 011994 011997 trihealth pavilion city state maintain 110000 square foot facility including tenant build outs manage maintenance housekeeping departments develop annual building department budgets maintain hvac systems carpentry plumbing electrical systems spas pools develop preventative maintenance program building systems equipment responsible contracts contractors including specifications bid packages negotiations high school diploma marketing automotive 1990 william mason high school mason ohio construction trades technology certificate minor marketing student government representative microsoft office evoco buzzsaw plangrid sap education skills\"\n        ],\n        \"semantic_type\": \"\",\n        \"description\": \"\"\n      }\n    }\n  ]\n}"
            }
          },
          "metadata": {},
          "execution_count": 44
        }
      ],
      "source": [
        "import pandas as pd\n",
        "\n",
        "df = pd.read_csv(\"hf://datasets/ahmedheakl/resume-atlas/train.csv\")\n",
        "df.head()\n"
      ]
    },
    {
      "cell_type": "code",
      "source": [
        "import nltk\n",
        "import re\n",
        "from nltk.stem import WordNetLemmatizer\n",
        "from nltk.corpus import stopwords\n",
        "from nltk.tokenize import word_tokenize\n",
        "\n",
        "nltk.download('punkt')\n",
        "nltk.download('stopwords')\n",
        "nltk.download('wordnet')\n",
        "nltk.download('punkt_tab')\n",
        "\n",
        "stop_words = set(stopwords.words('english'))\n",
        "lemmatizer = WordNetLemmatizer()\n",
        "\n",
        "def clean_text(text):\n",
        "    text = re.sub(r'[^a-zA-Z ]', ' ', text).lower()          # Remove punctuation & lowercase\n",
        "    tokens = word_tokenize(text)                         # Better tokenization\n",
        "    tokens = [word for word in tokens if word not in stop_words]  # Remove stopwords\n",
        "    tokens = [lemmatizer.lemmatize(word) for word in tokens]      # Lemmatize\n",
        "    return ' '.join(tokens)\n"
      ],
      "metadata": {
        "colab": {
          "base_uri": "https://localhost:8080/"
        },
        "id": "8ryv7s8FZaL0",
        "outputId": "eb4e022e-e927-4891-88ad-e27b66234ea3"
      },
      "execution_count": null,
      "outputs": [
        {
          "output_type": "stream",
          "name": "stderr",
          "text": [
            "[nltk_data] Downloading package punkt to /root/nltk_data...\n",
            "[nltk_data]   Package punkt is already up-to-date!\n",
            "[nltk_data] Downloading package stopwords to /root/nltk_data...\n",
            "[nltk_data]   Package stopwords is already up-to-date!\n",
            "[nltk_data] Downloading package wordnet to /root/nltk_data...\n",
            "[nltk_data]   Package wordnet is already up-to-date!\n",
            "[nltk_data] Downloading package punkt_tab to /root/nltk_data...\n",
            "[nltk_data]   Package punkt_tab is already up-to-date!\n"
          ]
        }
      ]
    },
    {
      "cell_type": "code",
      "source": [
        "df['Text'] = df['Text'].apply(clean_text)\n",
        "df.head()"
      ],
      "metadata": {
        "colab": {
          "base_uri": "https://localhost:8080/",
          "height": 206
        },
        "id": "SMIULqCKbQxg",
        "outputId": "ca12b532-d8ac-4c42-86ac-85c25f0c8b75"
      },
      "execution_count": null,
      "outputs": [
        {
          "output_type": "execute_result",
          "data": {
            "text/plain": [
              "     Category                                               Text\n",
              "0  Accountant  education omba executive leadership university...\n",
              "1  Accountant  howard gerrard accountant deyjobcom birmingham...\n",
              "2  Accountant  kevin frank senior accountant inforesumekraftc...\n",
              "3  Accountant  place birth nationality olivia ogilvy accounta...\n",
              "4  Accountant  stephen greet cpa senior accountant year exper..."
            ],
            "text/html": [
              "\n",
              "  <div id=\"df-9f8fc590-7a6d-4993-a976-e16c31c8c29c\" class=\"colab-df-container\">\n",
              "    <div>\n",
              "<style scoped>\n",
              "    .dataframe tbody tr th:only-of-type {\n",
              "        vertical-align: middle;\n",
              "    }\n",
              "\n",
              "    .dataframe tbody tr th {\n",
              "        vertical-align: top;\n",
              "    }\n",
              "\n",
              "    .dataframe thead th {\n",
              "        text-align: right;\n",
              "    }\n",
              "</style>\n",
              "<table border=\"1\" class=\"dataframe\">\n",
              "  <thead>\n",
              "    <tr style=\"text-align: right;\">\n",
              "      <th></th>\n",
              "      <th>Category</th>\n",
              "      <th>Text</th>\n",
              "    </tr>\n",
              "  </thead>\n",
              "  <tbody>\n",
              "    <tr>\n",
              "      <th>0</th>\n",
              "      <td>Accountant</td>\n",
              "      <td>education omba executive leadership university...</td>\n",
              "    </tr>\n",
              "    <tr>\n",
              "      <th>1</th>\n",
              "      <td>Accountant</td>\n",
              "      <td>howard gerrard accountant deyjobcom birmingham...</td>\n",
              "    </tr>\n",
              "    <tr>\n",
              "      <th>2</th>\n",
              "      <td>Accountant</td>\n",
              "      <td>kevin frank senior accountant inforesumekraftc...</td>\n",
              "    </tr>\n",
              "    <tr>\n",
              "      <th>3</th>\n",
              "      <td>Accountant</td>\n",
              "      <td>place birth nationality olivia ogilvy accounta...</td>\n",
              "    </tr>\n",
              "    <tr>\n",
              "      <th>4</th>\n",
              "      <td>Accountant</td>\n",
              "      <td>stephen greet cpa senior accountant year exper...</td>\n",
              "    </tr>\n",
              "  </tbody>\n",
              "</table>\n",
              "</div>\n",
              "    <div class=\"colab-df-buttons\">\n",
              "\n",
              "  <div class=\"colab-df-container\">\n",
              "    <button class=\"colab-df-convert\" onclick=\"convertToInteractive('df-9f8fc590-7a6d-4993-a976-e16c31c8c29c')\"\n",
              "            title=\"Convert this dataframe to an interactive table.\"\n",
              "            style=\"display:none;\">\n",
              "\n",
              "  <svg xmlns=\"http://www.w3.org/2000/svg\" height=\"24px\" viewBox=\"0 -960 960 960\">\n",
              "    <path d=\"M120-120v-720h720v720H120Zm60-500h600v-160H180v160Zm220 220h160v-160H400v160Zm0 220h160v-160H400v160ZM180-400h160v-160H180v160Zm440 0h160v-160H620v160ZM180-180h160v-160H180v160Zm440 0h160v-160H620v160Z\"/>\n",
              "  </svg>\n",
              "    </button>\n",
              "\n",
              "  <style>\n",
              "    .colab-df-container {\n",
              "      display:flex;\n",
              "      gap: 12px;\n",
              "    }\n",
              "\n",
              "    .colab-df-convert {\n",
              "      background-color: #E8F0FE;\n",
              "      border: none;\n",
              "      border-radius: 50%;\n",
              "      cursor: pointer;\n",
              "      display: none;\n",
              "      fill: #1967D2;\n",
              "      height: 32px;\n",
              "      padding: 0 0 0 0;\n",
              "      width: 32px;\n",
              "    }\n",
              "\n",
              "    .colab-df-convert:hover {\n",
              "      background-color: #E2EBFA;\n",
              "      box-shadow: 0px 1px 2px rgba(60, 64, 67, 0.3), 0px 1px 3px 1px rgba(60, 64, 67, 0.15);\n",
              "      fill: #174EA6;\n",
              "    }\n",
              "\n",
              "    .colab-df-buttons div {\n",
              "      margin-bottom: 4px;\n",
              "    }\n",
              "\n",
              "    [theme=dark] .colab-df-convert {\n",
              "      background-color: #3B4455;\n",
              "      fill: #D2E3FC;\n",
              "    }\n",
              "\n",
              "    [theme=dark] .colab-df-convert:hover {\n",
              "      background-color: #434B5C;\n",
              "      box-shadow: 0px 1px 3px 1px rgba(0, 0, 0, 0.15);\n",
              "      filter: drop-shadow(0px 1px 2px rgba(0, 0, 0, 0.3));\n",
              "      fill: #FFFFFF;\n",
              "    }\n",
              "  </style>\n",
              "\n",
              "    <script>\n",
              "      const buttonEl =\n",
              "        document.querySelector('#df-9f8fc590-7a6d-4993-a976-e16c31c8c29c button.colab-df-convert');\n",
              "      buttonEl.style.display =\n",
              "        google.colab.kernel.accessAllowed ? 'block' : 'none';\n",
              "\n",
              "      async function convertToInteractive(key) {\n",
              "        const element = document.querySelector('#df-9f8fc590-7a6d-4993-a976-e16c31c8c29c');\n",
              "        const dataTable =\n",
              "          await google.colab.kernel.invokeFunction('convertToInteractive',\n",
              "                                                    [key], {});\n",
              "        if (!dataTable) return;\n",
              "\n",
              "        const docLinkHtml = 'Like what you see? Visit the ' +\n",
              "          '<a target=\"_blank\" href=https://colab.research.google.com/notebooks/data_table.ipynb>data table notebook</a>'\n",
              "          + ' to learn more about interactive tables.';\n",
              "        element.innerHTML = '';\n",
              "        dataTable['output_type'] = 'display_data';\n",
              "        await google.colab.output.renderOutput(dataTable, element);\n",
              "        const docLink = document.createElement('div');\n",
              "        docLink.innerHTML = docLinkHtml;\n",
              "        element.appendChild(docLink);\n",
              "      }\n",
              "    </script>\n",
              "  </div>\n",
              "\n",
              "\n",
              "    <div id=\"df-9a7df165-b0c9-470f-b5a7-c19b7a3dd17e\">\n",
              "      <button class=\"colab-df-quickchart\" onclick=\"quickchart('df-9a7df165-b0c9-470f-b5a7-c19b7a3dd17e')\"\n",
              "                title=\"Suggest charts\"\n",
              "                style=\"display:none;\">\n",
              "\n",
              "<svg xmlns=\"http://www.w3.org/2000/svg\" height=\"24px\"viewBox=\"0 0 24 24\"\n",
              "     width=\"24px\">\n",
              "    <g>\n",
              "        <path d=\"M19 3H5c-1.1 0-2 .9-2 2v14c0 1.1.9 2 2 2h14c1.1 0 2-.9 2-2V5c0-1.1-.9-2-2-2zM9 17H7v-7h2v7zm4 0h-2V7h2v10zm4 0h-2v-4h2v4z\"/>\n",
              "    </g>\n",
              "</svg>\n",
              "      </button>\n",
              "\n",
              "<style>\n",
              "  .colab-df-quickchart {\n",
              "      --bg-color: #E8F0FE;\n",
              "      --fill-color: #1967D2;\n",
              "      --hover-bg-color: #E2EBFA;\n",
              "      --hover-fill-color: #174EA6;\n",
              "      --disabled-fill-color: #AAA;\n",
              "      --disabled-bg-color: #DDD;\n",
              "  }\n",
              "\n",
              "  [theme=dark] .colab-df-quickchart {\n",
              "      --bg-color: #3B4455;\n",
              "      --fill-color: #D2E3FC;\n",
              "      --hover-bg-color: #434B5C;\n",
              "      --hover-fill-color: #FFFFFF;\n",
              "      --disabled-bg-color: #3B4455;\n",
              "      --disabled-fill-color: #666;\n",
              "  }\n",
              "\n",
              "  .colab-df-quickchart {\n",
              "    background-color: var(--bg-color);\n",
              "    border: none;\n",
              "    border-radius: 50%;\n",
              "    cursor: pointer;\n",
              "    display: none;\n",
              "    fill: var(--fill-color);\n",
              "    height: 32px;\n",
              "    padding: 0;\n",
              "    width: 32px;\n",
              "  }\n",
              "\n",
              "  .colab-df-quickchart:hover {\n",
              "    background-color: var(--hover-bg-color);\n",
              "    box-shadow: 0 1px 2px rgba(60, 64, 67, 0.3), 0 1px 3px 1px rgba(60, 64, 67, 0.15);\n",
              "    fill: var(--button-hover-fill-color);\n",
              "  }\n",
              "\n",
              "  .colab-df-quickchart-complete:disabled,\n",
              "  .colab-df-quickchart-complete:disabled:hover {\n",
              "    background-color: var(--disabled-bg-color);\n",
              "    fill: var(--disabled-fill-color);\n",
              "    box-shadow: none;\n",
              "  }\n",
              "\n",
              "  .colab-df-spinner {\n",
              "    border: 2px solid var(--fill-color);\n",
              "    border-color: transparent;\n",
              "    border-bottom-color: var(--fill-color);\n",
              "    animation:\n",
              "      spin 1s steps(1) infinite;\n",
              "  }\n",
              "\n",
              "  @keyframes spin {\n",
              "    0% {\n",
              "      border-color: transparent;\n",
              "      border-bottom-color: var(--fill-color);\n",
              "      border-left-color: var(--fill-color);\n",
              "    }\n",
              "    20% {\n",
              "      border-color: transparent;\n",
              "      border-left-color: var(--fill-color);\n",
              "      border-top-color: var(--fill-color);\n",
              "    }\n",
              "    30% {\n",
              "      border-color: transparent;\n",
              "      border-left-color: var(--fill-color);\n",
              "      border-top-color: var(--fill-color);\n",
              "      border-right-color: var(--fill-color);\n",
              "    }\n",
              "    40% {\n",
              "      border-color: transparent;\n",
              "      border-right-color: var(--fill-color);\n",
              "      border-top-color: var(--fill-color);\n",
              "    }\n",
              "    60% {\n",
              "      border-color: transparent;\n",
              "      border-right-color: var(--fill-color);\n",
              "    }\n",
              "    80% {\n",
              "      border-color: transparent;\n",
              "      border-right-color: var(--fill-color);\n",
              "      border-bottom-color: var(--fill-color);\n",
              "    }\n",
              "    90% {\n",
              "      border-color: transparent;\n",
              "      border-bottom-color: var(--fill-color);\n",
              "    }\n",
              "  }\n",
              "</style>\n",
              "\n",
              "      <script>\n",
              "        async function quickchart(key) {\n",
              "          const quickchartButtonEl =\n",
              "            document.querySelector('#' + key + ' button');\n",
              "          quickchartButtonEl.disabled = true;  // To prevent multiple clicks.\n",
              "          quickchartButtonEl.classList.add('colab-df-spinner');\n",
              "          try {\n",
              "            const charts = await google.colab.kernel.invokeFunction(\n",
              "                'suggestCharts', [key], {});\n",
              "          } catch (error) {\n",
              "            console.error('Error during call to suggestCharts:', error);\n",
              "          }\n",
              "          quickchartButtonEl.classList.remove('colab-df-spinner');\n",
              "          quickchartButtonEl.classList.add('colab-df-quickchart-complete');\n",
              "        }\n",
              "        (() => {\n",
              "          let quickchartButtonEl =\n",
              "            document.querySelector('#df-9a7df165-b0c9-470f-b5a7-c19b7a3dd17e button');\n",
              "          quickchartButtonEl.style.display =\n",
              "            google.colab.kernel.accessAllowed ? 'block' : 'none';\n",
              "        })();\n",
              "      </script>\n",
              "    </div>\n",
              "\n",
              "    </div>\n",
              "  </div>\n"
            ],
            "application/vnd.google.colaboratory.intrinsic+json": {
              "type": "dataframe",
              "variable_name": "df",
              "summary": "{\n  \"name\": \"df\",\n  \"rows\": 13389,\n  \"fields\": [\n    {\n      \"column\": \"Category\",\n      \"properties\": {\n        \"dtype\": \"category\",\n        \"num_unique_values\": 43,\n        \"samples\": [\n          \"React Developer\",\n          \"Finance\",\n          \"Food and Beverages\"\n        ],\n        \"semantic_type\": \"\",\n        \"description\": \"\"\n      }\n    },\n    {\n      \"column\": \"Text\",\n      \"properties\": {\n        \"dtype\": \"string\",\n        \"num_unique_values\": 12041,\n        \"samples\": [\n          \"jessica claire montgomery street san francisco ca resumesampleexamplecom professional summary proven skill improving design process increasing team efficiency boosting work quality analytical approach strong attention detail combined methodical conscientious nature successfully manage facet design production produce durable highquality product qualified technician many year industry experience demonstrated success streamlining process boosting efficiency leveraging strong design problemsolving ability detailoriented conscientious addressing aspect development production create reliable product eager electrical maintenance technician experience diagnosing repairing machine networked equipment manufacturing environment adept modifying reviewing electrical infrastructure system exceptional communication organizational skill skill proficient microsoft application maintenance repair managed networking power gas line strong team player blueprint reading install configure support network equipment technical support electric cable wiring schematic electrical maintenance engineer current amentum washington dc strong written verbal communication skill strong mechanical skill schematic interpretation installation problem resolution testing repair predictive preventive maintenance problem analysis cable management work history scheduled undertook periodic maintenance electrical installation component equipment troubleshot hardware software determine rectify network problem diagnosed executed resolution network issue within plant maintained fixed lighting fixture ensured equipment great working order conferred engineer designer investigate solve failure issue devoted special emphasis punctuality worked maintain outstanding attendance record consistently arriving work ready start immediately inspected tested machinery equipment diagnose malfunction completed daily weekly monthly checklist building equipment maintain record scheduled maintenance procedure troubleshot diagnosed problem mechanical electrical system equipment repair update equipment conform companywide standard lead technician td garden columbus oh provide technical training coworkers new staff followed manufacturing field report resolved outstanding problem established repaired optimized network installing wiring cabling device diagnosed resolved hardware software network problem replaced defective component within company equipment managed team performance training mentoring disciplining motivating employee repaired upgraded inspected electronic electrical mechanical system implemented schematic diagram written verbal description effectively solve engineering project issue adhered established policy standard safely complete project monitored network hardware operation evaluate proper configuration electrical technician applied industrial technology inc lima oh completed highquality packaging product skilled assembly system support connection connected component exterior cable system tested connection adequate power functional link stayed uptodate electrical code safety procedure maintain efficiency safety fabricated large small part per drawing assembled part required monitored product standard qualitycontrol program completed highquality packaging product skilled assembly system support connection established repaired optimized network installing wiring cabling device improved overall user experience support training troubleshooting improvement communication system change resolved issue escalated problem knowledgeable support quality service assembled communication equipment wiring switching equipment power apparatus welding operator american beer equipment city state operated hoist crane power tool dismantle equipment find remove defective part set operated hand power tool including shielded metal arc gas metal arc welding equipment clamped tackwelded component achieve desired configuration detected faulty operation equipment defective material promptly resolved issue high school diploma education omaha north high omaha ne associate applied science information technology server administration metropolitan community college omaha ne enrolled taking class associate degree also working getting certification aws azure cloud application\",\n          \"first last net fullstack developer net fullstack developer five year experience leading clientfirm consultation developing web application led team people across technology business design department san francisco ca firstlastresumewordedcom linkedincominresumeworded experience resume worded new york ny net fullstack developer january present led account revenue reporting project involving database design using ajax successfully attracted million worth potential revenue reduced delay contract delivery pacing improving project framework using aspnet provided training engineer customize deploy commercial unit testing tool using aspnet vbnet ajax javascript reduced power requirement improving multiple performance measure developing firmware code using sql server growthsi remote software developer july january created documentation address common technical issue reducing number technical support inquires improved builtin software performance dramatically hour minute daily matrix generation working generation paw daily matrix reduced size cs file line code reduced defect page load time monitoring cs code whilst managing team onsite offshore developer resume worded boston web developer january june improved efficiency operation developing brand new administration panel purchasing agent business increased customer satisfaction creating database utilizing php pdo mysql streamlined trucking operation creating assigning tracking truckloads offering paperless solution increased daily traffic redesigning existing website improve user experience skill net aspnet vbnet ajax javascript mysql php pdo backbonejs education resume worded university b computer science minor business management january new york ny award resume worded teaching fellow awarded class dean list top relevant course operation research statistic linear algebra completed oneyear study abroad singapore university project account revenue reporting project web developer certified\",\n          \"jessica claire montgomery st th floor resumesampleexamplecom professional summary multitasking consultant known successfully taking project beginning stage completion polished professional team leader experienced international setting fundraising communication advocacy talented developing strategy setting goal fast learning confident decisive communicating goal vision succeed year experience knowledgeable talented leader working leadership hardworking passionate job seeker strong organizational skill eager secure position combine policy passion ready help team achieve motivated team company goal salesforce project management leadership organization time management excellent communication skill data management critical thinking selfmotivated multitasking ability work history consultant current george mason university fairfax va part capstone team tasked evaluating fiscal municipal system tanzania case study malaga report uncdf presented published recommendation municipal financial system achieve bond maintain line credit liaised domestic international stakeholder better understand need recommend appropriate solution created detailed roadmaps action item project goal generated report inform budgeting planning developed strategic component development plan support future project project management assistant ibm corporation madison wi compiled tracked project document phase wellorganized easily accessible system documented time spent project segment updated master tracking spreadsheet prepared project report documented activity met schedule deadline ensuring work completed efficiently completed daily administrative task including responding email filing paperwork updating salesforce promptly worked senior project leader create project scope implement roadmaps exceeded company objective cooperating grantee implement new idea practice produced distributed memo newsletter email update form communication used microsoft team zoom google meet arrange meeting grantee project officer discus project scope human right intern chumash casino santa ynez ca human right council virtual panel attended along memo created opinion piece written vote count distributed un geneva state department dc universal peer review upr preparation support geneva office provided th session took place november demonstrated selfreliance meeting exceeding workflow need participated took extensive note weekly meeting human right office worked successfully diverse group coworkers accomplish goal address issue related human right community health representative peace corp malawi city state stomp malaria committee health sector representativemedia liaison designed executed promoted project malaria prevention pc volunteer counterpart enhanced awareness health resource worked connect individual program developed implemented project focusing hivaids nutrition gender based violence menstrual hygiene management wash initiative guided program development implementation meet need diverse client population wrote report bulletin outlining key health topic response strategy reviewed budget align objective policy priority proper fund allocation spoke health community worker member public importance health prevention treatment helped targeting public health work developing need assessment helped vulnerable individual navigate complex healthcare system targeted specific community group wellness disease management information demonstrated respect staff volunteer patient diverse cultural socioeconomic background developed implemented training class educate team member community resident wrote distributed informational material chronic disease infant mortality substance abuse community health concern provided complex counseling identified alternative resource patient care education master public administration health policy management new york university new york ny school robert f wagner school public policy specialization international health relevant coursework completed capstoneuncdfwagner malaga report case study evaluation tanzania municipal financial system received ellen schall experience fund member wagner womxns caucus bachelor science dyouville college buffalo ny wwwlinkedincominjessicaclaire website\"\n        ],\n        \"semantic_type\": \"\",\n        \"description\": \"\"\n      }\n    }\n  ]\n}"
            }
          },
          "metadata": {},
          "execution_count": 46
        }
      ]
    },
    {
      "cell_type": "code",
      "source": [
        "df['Text'][0]"
      ],
      "metadata": {
        "colab": {
          "base_uri": "https://localhost:8080/",
          "height": 209
        },
        "id": "4A6LFklAbUwf",
        "outputId": "5d9c7a47-0fa6-4062-c266-2795f61f0b55"
      },
      "execution_count": null,
      "outputs": [
        {
          "output_type": "execute_result",
          "data": {
            "text/plain": [
              "'education omba executive leadership university texas bachelor science accounting richland college training certification certified management accountant cma certified financial modeling valuation analyst compliance antimoney laundering american institute banking certified public account cpa lean six sigma green belt certified trade product financial regulation american institute banking achievement speaker bringing leader within successfully presented empowering speech leadership participant speaker dallas convention cpa successfully delivered seminar k cpa convention guest teaching experience online teacher udemy taught online accounting nonaccountant course udemy similar online teaching platform developed effective teaching module material curriculum target student took feedback student assist improving teaching methodology material professional membership affiliation american society executive present technical skill quickbooks erp sap oracle hyperion language english native fellow chartered accountant present m office sql ibm cognos german spanish french full professional proficiency limited working proficiency limited working proficiency interest artificial intelligence chess nnovoresumecom sailing cryptocurrencies page'"
            ],
            "application/vnd.google.colaboratory.intrinsic+json": {
              "type": "string"
            }
          },
          "metadata": {},
          "execution_count": 47
        }
      ]
    },
    {
      "cell_type": "code",
      "source": [
        "#tfidf\n",
        "from sklearn.feature_extraction.text import TfidfVectorizer\n",
        "\n",
        "tfidf_vectorizer = TfidfVectorizer(max_features=5000)\n",
        "X = tfidf_vectorizer.fit_transform(df['Text'])\n"
      ],
      "metadata": {
        "id": "1FAMytVPcsjf"
      },
      "execution_count": null,
      "outputs": []
    },
    {
      "cell_type": "code",
      "source": [
        "X"
      ],
      "metadata": {
        "colab": {
          "base_uri": "https://localhost:8080/"
        },
        "id": "S1NBMg49eMGX",
        "outputId": "a17a8d17-52ec-4aa5-8ffd-453edb12e9af"
      },
      "execution_count": null,
      "outputs": [
        {
          "output_type": "execute_result",
          "data": {
            "text/plain": [
              "<Compressed Sparse Row sparse matrix of dtype 'float64'\n",
              "\twith 3166787 stored elements and shape (13389, 5000)>"
            ]
          },
          "metadata": {},
          "execution_count": 54
        }
      ]
    },
    {
      "cell_type": "code",
      "source": [
        "y = df['Category']\n",
        "#label encoding\n",
        "from sklearn.preprocessing import LabelEncoder\n",
        "le = LabelEncoder()\n",
        "y = le.fit_transform(y)"
      ],
      "metadata": {
        "id": "rHTZYgcyeQAA"
      },
      "execution_count": null,
      "outputs": []
    },
    {
      "cell_type": "code",
      "source": [
        "y"
      ],
      "metadata": {
        "colab": {
          "base_uri": "https://localhost:8080/"
        },
        "id": "S4DDOpalefAF",
        "outputId": "d23d6f27-edac-4ce8-aa60-d255070baf6b"
      },
      "execution_count": null,
      "outputs": [
        {
          "output_type": "execute_result",
          "data": {
            "text/plain": [
              "array([ 0,  0,  0, ..., 42, 42, 42])"
            ]
          },
          "metadata": {},
          "execution_count": 56
        }
      ]
    },
    {
      "cell_type": "code",
      "source": [
        "#train test split\n",
        "from sklearn.model_selection import train_test_split\n",
        "X_train, X_test, y_train, y_test = train_test_split(X, y, test_size=0.2, random_state=42)"
      ],
      "metadata": {
        "id": "wQeHY5epe94n"
      },
      "execution_count": null,
      "outputs": []
    },
    {
      "cell_type": "code",
      "source": [
        "#using linear SVM\n",
        "from sklearn.svm import LinearSVC\n",
        "from sklearn.metrics import accuracy_score, classification_report\n",
        "\n",
        "model = LinearSVC()\n",
        "model.fit(X_train, y_train)\n",
        "y_pred = model.predict(X_test)\n",
        "print(classification_report(y_test, y_pred))"
      ],
      "metadata": {
        "colab": {
          "base_uri": "https://localhost:8080/"
        },
        "id": "OQa8oshVfFjU",
        "outputId": "1fef8e91-df18-4eb4-8029-bab3feae19ef"
      },
      "execution_count": null,
      "outputs": [
        {
          "output_type": "stream",
          "name": "stdout",
          "text": [
            "0.8188946975354743\n",
            "              precision    recall  f1-score   support\n",
            "\n",
            "           0       0.83      0.90      0.86        79\n",
            "           1       0.81      0.79      0.80        53\n",
            "           2       0.95      0.93      0.94        67\n",
            "           3       0.82      0.88      0.85        68\n",
            "           4       0.90      0.83      0.86        84\n",
            "           5       0.87      0.90      0.89        69\n",
            "           6       0.85      0.71      0.78        63\n",
            "           7       0.86      0.93      0.89        58\n",
            "           8       0.82      0.69      0.75        52\n",
            "           9       0.85      0.82      0.83        55\n",
            "          10       0.50      1.00      0.67         3\n",
            "          11       0.83      0.98      0.90        60\n",
            "          12       0.81      0.80      0.81        65\n",
            "          13       0.91      0.96      0.94        78\n",
            "          14       0.84      0.62      0.71        74\n",
            "          15       0.84      0.78      0.81        69\n",
            "          16       0.76      0.63      0.69        49\n",
            "          17       0.63      0.62      0.63        53\n",
            "          18       0.97      0.96      0.97        72\n",
            "          19       0.81      0.83      0.82        71\n",
            "          20       0.88      0.82      0.85        61\n",
            "          21       0.80      0.77      0.78        64\n",
            "          22       0.76      0.85      0.80        80\n",
            "          23       0.90      0.88      0.89        78\n",
            "          24       0.72      0.73      0.73        71\n",
            "          25       0.81      0.94      0.87        18\n",
            "          26       0.86      0.94      0.90        68\n",
            "          27       0.82      0.93      0.87        74\n",
            "          28       0.86      0.79      0.82        68\n",
            "          29       0.85      0.89      0.87        71\n",
            "          30       0.61      0.47      0.53        60\n",
            "          31       0.86      0.96      0.90        74\n",
            "          32       0.82      0.95      0.88        39\n",
            "          33       0.80      0.85      0.83        61\n",
            "          34       0.92      0.85      0.88        53\n",
            "          35       0.88      0.88      0.88        75\n",
            "          36       0.78      0.67      0.72        60\n",
            "          37       0.45      0.48      0.47        31\n",
            "          38       0.96      0.92      0.94        75\n",
            "          39       0.74      0.78      0.76        68\n",
            "          40       0.64      0.73      0.68        66\n",
            "          41       0.69      0.81      0.75        58\n",
            "          42       0.71      0.62      0.66        63\n",
            "\n",
            "    accuracy                           0.82      2678\n",
            "   macro avg       0.80      0.82      0.81      2678\n",
            "weighted avg       0.82      0.82      0.82      2678\n",
            "\n"
          ]
        }
      ]
    },
    {
      "cell_type": "code",
      "source": [
        "print(accuracy_score(y_test, y_pred))"
      ],
      "metadata": {
        "colab": {
          "base_uri": "https://localhost:8080/"
        },
        "id": "oPFJwBqUf2f_",
        "outputId": "80dde1c0-4770-4a36-ffab-cbbe7060fac7"
      },
      "execution_count": null,
      "outputs": [
        {
          "output_type": "stream",
          "name": "stdout",
          "text": [
            "0.8188946975354743\n"
          ]
        }
      ]
    },
    {
      "cell_type": "code",
      "source": [
        "y_list = df['Category'].unique()"
      ],
      "metadata": {
        "id": "Lh7k9SctgWLu"
      },
      "execution_count": null,
      "outputs": []
    },
    {
      "cell_type": "code",
      "source": [
        "y_list"
      ],
      "metadata": {
        "colab": {
          "base_uri": "https://localhost:8080/"
        },
        "id": "P3_0atPIgiBh",
        "outputId": "3cc2a732-34ab-4147-da84-bfba8174c30d"
      },
      "execution_count": null,
      "outputs": [
        {
          "output_type": "execute_result",
          "data": {
            "text/plain": [
              "array(['Accountant', 'Advocate', 'Agriculture', 'Apparel', 'Architecture',\n",
              "       'Arts', 'Automobile', 'Aviation', 'Banking', 'Blockchain', 'BPO',\n",
              "       'Building and Construction', 'Business Analyst', 'Civil Engineer',\n",
              "       'Consultant', 'Data Science', 'Database', 'Designing', 'DevOps',\n",
              "       'Digital Media', 'DotNet Developer', 'Education',\n",
              "       'Electrical Engineering', 'ETL Developer', 'Finance',\n",
              "       'Food and Beverages', 'Health and Fitness', 'Human Resources',\n",
              "       'Information Technology', 'Java Developer', 'Management',\n",
              "       'Mechanical Engineer', 'Network Security Engineer',\n",
              "       'Operations Manager', 'PMO', 'Public Relations',\n",
              "       'Python Developer', 'React Developer', 'Sales', 'SAP Developer',\n",
              "       'SQL Developer', 'Testing', 'Web Designing'], dtype=object)"
            ]
          },
          "metadata": {},
          "execution_count": 67
        }
      ]
    },
    {
      "cell_type": "code",
      "source": [
        "#readinf pdf file\n",
        "!pip install pymupdf\n",
        "import pymupdf # imports the pymupdf library\n",
        "doc = pymupdf.open(\"/content/Your Name.pdf\") # open a document\n",
        "for page in doc: # iterate the document pages\n",
        "  text = page.get_text() # get plain text encoded as UTF-8"
      ],
      "metadata": {
        "colab": {
          "base_uri": "https://localhost:8080/"
        },
        "id": "8DB5siaagjkb",
        "outputId": "bccf4707-cdb7-42da-ee28-9a48bc4982ec"
      },
      "execution_count": null,
      "outputs": [
        {
          "output_type": "stream",
          "name": "stdout",
          "text": [
            "Requirement already satisfied: pymupdf in /usr/local/lib/python3.11/dist-packages (1.26.0)\n"
          ]
        }
      ]
    },
    {
      "cell_type": "code",
      "source": [
        "text = clean_text(text)          # Remove punctuation & lowercase"
      ],
      "metadata": {
        "id": "tF1Tq5UOhTAf"
      },
      "execution_count": null,
      "outputs": []
    },
    {
      "cell_type": "code",
      "source": [
        "text"
      ],
      "metadata": {
        "colab": {
          "base_uri": "https://localhost:8080/",
          "height": 122
        },
        "id": "Ih8YLnm_halz",
        "outputId": "468cd07d-f585-4cd5-8c3a-8950567fc9c1"
      },
      "execution_count": null,
      "outputs": [
        {
          "output_type": "execute_result",
          "data": {
            "text/plain": [
              "'master science computer science capstone project distributed computing awarded best class resume worded universityjune bachelor engineering computer science graduated cum laude honor part time study initial career year skill core programming python expert java intermediate c intermediate sql advanced javascript intermediate bash intermediate framework library django expert flask expert react intermediate node j intermediate panda advanced numpy advanced development tool git expert docker advanced jenkins advanced kubernetes intermediate selenium intermediate jira advanced database cloud service mysql advanced postgresql advanced mongodb intermediate aws advanced gcp intermediate azure intermediate certification certified kubernetes administrator aws certified solution architect continuing education advanced machine learning specialization resume worded institute data structure algorithm specialization resume worded institute award facebook champion programmer award coached com innovator year open source contribution contributor panda v release maintainer open source machine learning repository github k star'"
            ],
            "application/vnd.google.colaboratory.intrinsic+json": {
              "type": "string"
            }
          },
          "metadata": {},
          "execution_count": 84
        }
      ]
    },
    {
      "cell_type": "code",
      "source": [
        "X_new = tfidf_vectorizer.transform([text])"
      ],
      "metadata": {
        "id": "cKy9R6pehl-g"
      },
      "execution_count": null,
      "outputs": []
    },
    {
      "cell_type": "code",
      "source": [
        "num = model.predict(X_new)"
      ],
      "metadata": {
        "id": "WvON2p8amqV5"
      },
      "execution_count": null,
      "outputs": []
    },
    {
      "cell_type": "code",
      "source": [
        "y_list[num[0]]"
      ],
      "metadata": {
        "colab": {
          "base_uri": "https://localhost:8080/",
          "height": 35
        },
        "id": "smWQirnUm7Km",
        "outputId": "de8e17d2-b038-4985-98c7-ee9540592438"
      },
      "execution_count": null,
      "outputs": [
        {
          "output_type": "execute_result",
          "data": {
            "text/plain": [
              "'Data Science'"
            ],
            "application/vnd.google.colaboratory.intrinsic+json": {
              "type": "string"
            }
          },
          "metadata": {},
          "execution_count": 87
        }
      ]
    },
    {
      "cell_type": "code",
      "source": [
        "model.get_params()"
      ],
      "metadata": {
        "colab": {
          "base_uri": "https://localhost:8080/"
        },
        "id": "lGA9gSDCnDF0",
        "outputId": "760be651-acfa-4ee4-b713-29f76fe6ca64"
      },
      "execution_count": null,
      "outputs": [
        {
          "output_type": "execute_result",
          "data": {
            "text/plain": [
              "{'C': 1.0,\n",
              " 'class_weight': None,\n",
              " 'dual': 'auto',\n",
              " 'fit_intercept': True,\n",
              " 'intercept_scaling': 1,\n",
              " 'loss': 'squared_hinge',\n",
              " 'max_iter': 1000,\n",
              " 'multi_class': 'ovr',\n",
              " 'penalty': 'l2',\n",
              " 'random_state': None,\n",
              " 'tol': 0.0001,\n",
              " 'verbose': 0}"
            ]
          },
          "metadata": {},
          "execution_count": 88
        }
      ]
    },
    {
      "cell_type": "code",
      "source": [
        "#saving the model\n",
        "import pickle\n",
        "with open('model.pkl', 'wb') as f:\n",
        "    pickle.dump(model, f)"
      ],
      "metadata": {
        "id": "g0b9BEETnXrX"
      },
      "execution_count": null,
      "outputs": []
    },
    {
      "cell_type": "code",
      "source": [
        "with open('tfidf_vectorizer.pkl', 'wb') as f:\n",
        "    pickle.dump(tfidf_vectorizer, f)"
      ],
      "metadata": {
        "id": "axXIGTBUvYzH"
      },
      "execution_count": null,
      "outputs": []
    },
    {
      "cell_type": "code",
      "source": [],
      "metadata": {
        "id": "Ml0YGkrYvcTg"
      },
      "execution_count": null,
      "outputs": []
    }
  ]
}